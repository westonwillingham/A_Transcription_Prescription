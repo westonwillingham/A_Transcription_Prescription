{
 "cells": [
  {
   "cell_type": "code",
   "execution_count": 1,
   "metadata": {},
   "outputs": [
    {
     "name": "stdout",
     "output_type": "stream",
     "text": [
      "What is Cost of Poor Quality?\n",
      "Remember Taguchi’s Quadratic Loss Function\n",
      "\n",
      "* In addition to the direct costs associated with finding and\n",
      "fixing defects, “Cost of Poor Quality” also includes:\n",
      "\n",
      "— The hidden cost of failing to meet customer expectations the first\n",
      "time\n",
      "\n",
      "— The hidden opportunity for increased efficiency\n",
      "\n",
      "— The hidden potential for higher profits\n",
      "\n",
      "— The hidden loss in market share\n",
      "\n",
      "— The hidden increase in production cycle time\n",
      "\n",
      "— The hidden labor associated with ordering replacement material\n",
      "\n",
      "— The hidden costs associated with disposing of defects\n",
      "\n",
      "For most companies today, the cost of poor quality is likely\n",
      "to be 25 % of sales\n",
      "\n",
      "In almost every company where the COPQ is unknown, the\n",
      "COPQ exceeds the profit margin.\n",
      "\f",
      "\n"
     ]
    }
   ],
   "source": [
    "import cv2\n",
    "import pytesseract\n",
    "img = cv2.imread('screenshot.png')\n",
    "print(pytesseract.image_to_string(img))"
   ]
  },
  {
   "cell_type": "code",
   "execution_count": 13,
   "metadata": {},
   "outputs": [],
   "source": [
    "img = cv2.imread('screenshot.png')"
   ]
  },
  {
   "cell_type": "code",
   "execution_count": 14,
   "metadata": {},
   "outputs": [
    {
     "name": "stdout",
     "output_type": "stream",
     "text": [
      "What is Cost of Poor Quality?\n",
      "Remember Taguchi’s Quadratic Loss Function\n",
      "\n",
      "* In addition to the direct costs associated with finding and\n",
      "fixing defects, “Cost of Poor Quality” also includes:\n",
      "\n",
      "— The hidden cost of failing to meet customer expectations the first\n",
      "time\n",
      "\n",
      "— The hidden opportunity for increased efficiency\n",
      "\n",
      "— The hidden potential for higher profits\n",
      "\n",
      "— The hidden loss in market share\n",
      "\n",
      "— The hidden increase in production cycle time\n",
      "\n",
      "— The hidden labor associated with ordering replacement material\n",
      "\n",
      "— The hidden costs associated with disposing of defects\n",
      "\n",
      "For most companies today, the cost of poor quality is likely\n",
      "to be 25 % of sales\n",
      "\n",
      "In almost every company where the COPQ is unknown, the\n",
      "COPQ exceeds the profit margin.\n",
      "\f",
      "\n"
     ]
    }
   ],
   "source": [
    "text = pytesseract.image_to_string(img)\n",
    "print(text)"
   ]
  },
  {
   "cell_type": "code",
   "execution_count": null,
   "metadata": {},
   "outputs": [],
   "source": []
  }
 ],
 "metadata": {
  "kernelspec": {
   "display_name": "Python 3",
   "language": "python",
   "name": "python3"
  },
  "language_info": {
   "codemirror_mode": {
    "name": "ipython",
    "version": 3
   },
   "file_extension": ".py",
   "mimetype": "text/x-python",
   "name": "python",
   "nbconvert_exporter": "python",
   "pygments_lexer": "ipython3",
   "version": "3.7.9"
  }
 },
 "nbformat": 4,
 "nbformat_minor": 2
}
